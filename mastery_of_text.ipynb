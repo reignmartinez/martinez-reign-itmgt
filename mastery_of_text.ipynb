{
 "cells": [
  {
   "cell_type": "code",
   "execution_count": 1,
   "id": "db9bf547-f1ed-456b-a479-51aefad46a40",
   "metadata": {},
   "outputs": [],
   "source": [
    "import urllib.request\n",
    "url = \"https://www.gutenberg.org/cache/epub/10/pg10.txt\"\n",
    "with urllib.request.urlopen(url) as response:\n",
    "    pg10 = response.read().decode(\"utf-8\")"
   ]
  },
  {
   "cell_type": "code",
   "execution_count": 2,
   "id": "0fa00973-949f-4f2f-a7e3-106e89c7bbe6",
   "metadata": {},
   "outputs": [
    {
     "name": "stdout",
     "output_type": "stream",
     "text": [
      "Number of lines: 99968\n"
     ]
    }
   ],
   "source": [
    "num_lines = len(pg10.splitlines())\n",
    "print(\"Number of lines:\", num_lines)"
   ]
  },
  {
   "cell_type": "code",
   "execution_count": 6,
   "id": "493d0b39-1755-40ef-89b3-afe0cacdd060",
   "metadata": {},
   "outputs": [
    {
     "name": "stdout",
     "output_type": "stream",
     "text": [
      "Word Count: 795227\n"
     ]
    }
   ],
   "source": [
    "word_count = 0\n",
    "in_word = False\n",
    "\n",
    "for char in pg10:\n",
    "    if char.isalpha():\n",
    "        if not in_word:\n",
    "            word_count += 1\n",
    "            in_word = True\n",
    "\n",
    "    else:\n",
    "        in_word = False\n",
    "\n",
    "print(\"Word Count:\", word_count)"
   ]
  },
  {
   "cell_type": "code",
   "execution_count": 7,
   "id": "9981e978-1f69-4b97-baa9-3c1f450117a7",
   "metadata": {},
   "outputs": [
    {
     "name": "stdout",
     "output_type": "stream",
     "text": [
      "Occurrences of 'apostle': 47\n"
     ]
    }
   ],
   "source": [
    "words_lower = [word.lower() for word in words]\n",
    "\n",
    "apostle_count = words_lower.count(\"apostle\")\n",
    "print(\"Occurrences of 'apostle':\", apostle_count)"
   ]
  },
  {
   "cell_type": "code",
   "execution_count": 10,
   "id": "652ce181-c5bd-415d-9078-3158a76d11f0",
   "metadata": {},
   "outputs": [
    {
     "name": "stdout",
     "output_type": "stream",
     "text": [
      "Occurencces of 'apostle' in the string: 113\n"
     ]
    }
   ],
   "source": [
    "pg10 = pg10.lower()\n",
    "print(\"Occurencces of 'apostle' in the string:\", pg10.count(\"apostle\"))"
   ]
  },
  {
   "cell_type": "code",
   "execution_count": 8,
   "id": "dc89733c-c60c-4803-a80e-dd9e45318d03",
   "metadata": {},
   "outputs": [
    {
     "name": "stdout",
     "output_type": "stream",
     "text": [
      "Most common word: 'the' (64309 times)\n"
     ]
    }
   ],
   "source": [
    "word_counts = {}\n",
    "\n",
    "for word in words_lower:\n",
    "    word_counts[word] = word_counts.get(word, 0) + 1\n",
    "\n",
    "most_common_word = max(word_counts, key=word_counts.get)\n",
    "most_common_count = word_counts[most_common_word]\n",
    "\n",
    "print(\"Most common word:\", repr(most_common_word), f\"({most_common_count} times)\")"
   ]
  },
  {
   "cell_type": "code",
   "execution_count": null,
   "id": "632daacd-cea5-4d72-a7ac-9f6a8f5079ef",
   "metadata": {},
   "outputs": [],
   "source": []
  }
 ],
 "metadata": {
  "kernelspec": {
   "display_name": "Python [conda env:base] *",
   "language": "python",
   "name": "conda-base-py"
  },
  "language_info": {
   "codemirror_mode": {
    "name": "ipython",
    "version": 3
   },
   "file_extension": ".py",
   "mimetype": "text/x-python",
   "name": "python",
   "nbconvert_exporter": "python",
   "pygments_lexer": "ipython3",
   "version": "3.12.7"
  }
 },
 "nbformat": 4,
 "nbformat_minor": 5
}
