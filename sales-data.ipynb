{
 "cells": [
  {
   "cell_type": "code",
   "execution_count": 3,
   "id": "cbf6e6da-606a-4492-b891-75e086b94d78",
   "metadata": {},
   "outputs": [
    {
     "name": "stdout",
     "output_type": "stream",
     "text": [
      "/Users/fourrcerise/project\n"
     ]
    }
   ],
   "source": [
    "import os\n",
    "print(os.getcwd())"
   ]
  },
  {
   "cell_type": "code",
   "execution_count": 4,
   "id": "faaef0c4-38c1-435f-870a-d0f58029ff38",
   "metadata": {},
   "outputs": [],
   "source": [
    "os.chdir(\"/Users/fourrcerise/Downloads/PANDAS\")"
   ]
  },
  {
   "cell_type": "code",
   "execution_count": 5,
   "id": "e7fe3382-6c09-4410-a500-6b09b905b7cc",
   "metadata": {},
   "outputs": [],
   "source": [
    "import pandas as pd\n",
    "import numpy as np\n",
    "import matplotlib.pyplot as plt\n",
    "\n",
    "invoices = pd.read_csv(\"fct_invoice.csv\")\n",
    "customers = pd.read_json(\"dim_customer.json\")"
   ]
  },
  {
   "cell_type": "code",
   "execution_count": 7,
   "id": "06eb0792-e413-454f-8b44-e2cd4f8805a3",
   "metadata": {},
   "outputs": [
    {
     "name": "stdout",
     "output_type": "stream",
     "text": [
      "Index(['age', 'first_name', 'gender', 'id', 'last_name'], dtype='object')\n"
     ]
    }
   ],
   "source": [
    "print(customers.columns)"
   ]
  },
  {
   "cell_type": "code",
   "execution_count": 8,
   "id": "a801a197-2e9d-4fa1-a546-a91aea9accb4",
   "metadata": {},
   "outputs": [
    {
     "data": {
      "text/html": [
       "<div>\n",
       "<style scoped>\n",
       "    .dataframe tbody tr th:only-of-type {\n",
       "        vertical-align: middle;\n",
       "    }\n",
       "\n",
       "    .dataframe tbody tr th {\n",
       "        vertical-align: top;\n",
       "    }\n",
       "\n",
       "    .dataframe thead th {\n",
       "        text-align: right;\n",
       "    }\n",
       "</style>\n",
       "<table border=\"1\" class=\"dataframe\">\n",
       "  <thead>\n",
       "    <tr style=\"text-align: right;\">\n",
       "      <th></th>\n",
       "      <th>age</th>\n",
       "      <th>first_name</th>\n",
       "      <th>gender</th>\n",
       "      <th>id</th>\n",
       "      <th>last_name</th>\n",
       "    </tr>\n",
       "  </thead>\n",
       "  <tbody>\n",
       "    <tr>\n",
       "      <th>0</th>\n",
       "      <td>48.0</td>\n",
       "      <td>Nicholas</td>\n",
       "      <td>M</td>\n",
       "      <td>0</td>\n",
       "      <td>Flores</td>\n",
       "    </tr>\n",
       "    <tr>\n",
       "      <th>1</th>\n",
       "      <td>NaN</td>\n",
       "      <td>Jeffery</td>\n",
       "      <td>M</td>\n",
       "      <td>1</td>\n",
       "      <td>Rowe</td>\n",
       "    </tr>\n",
       "    <tr>\n",
       "      <th>2</th>\n",
       "      <td>57.0</td>\n",
       "      <td>Alexis</td>\n",
       "      <td>F</td>\n",
       "      <td>2</td>\n",
       "      <td>Benton</td>\n",
       "    </tr>\n",
       "    <tr>\n",
       "      <th>3</th>\n",
       "      <td>73.0</td>\n",
       "      <td>Amy</td>\n",
       "      <td>F</td>\n",
       "      <td>3</td>\n",
       "      <td>Johnson</td>\n",
       "    </tr>\n",
       "    <tr>\n",
       "      <th>4</th>\n",
       "      <td>20.0</td>\n",
       "      <td>David</td>\n",
       "      <td>M</td>\n",
       "      <td>4</td>\n",
       "      <td>Moore</td>\n",
       "    </tr>\n",
       "  </tbody>\n",
       "</table>\n",
       "</div>"
      ],
      "text/plain": [
       "    age first_name gender  id last_name\n",
       "0  48.0   Nicholas      M   0    Flores\n",
       "1   NaN    Jeffery      M   1      Rowe\n",
       "2  57.0     Alexis      F   2    Benton\n",
       "3  73.0        Amy      F   3   Johnson\n",
       "4  20.0      David      M   4     Moore"
      ]
     },
     "execution_count": 8,
     "metadata": {},
     "output_type": "execute_result"
    }
   ],
   "source": [
    "customers.head()"
   ]
  },
  {
   "cell_type": "code",
   "execution_count": null,
   "id": "f6830a98-3cdb-429b-842a-1bea06be4f0d",
   "metadata": {},
   "outputs": [],
   "source": [
    "# Easy Question 1: How many unique customers are in the dataset?"
   ]
  },
  {
   "cell_type": "code",
   "execution_count": 17,
   "id": "c3c73b92-aab9-47c0-9b8c-3ca4ab1fbef6",
   "metadata": {},
   "outputs": [
    {
     "name": "stdout",
     "output_type": "stream",
     "text": [
      "Unique customers: 5191\n"
     ]
    }
   ],
   "source": [
    "unique_customers = customers['id'].nunique()\n",
    "print(f\"Unique customers: {unique_customers}\")"
   ]
  },
  {
   "cell_type": "code",
   "execution_count": null,
   "id": "7997c47a-e852-4490-9612-de8ab1487343",
   "metadata": {},
   "outputs": [],
   "source": [
    "# Easy Question 2: What are the different categories of products available? How many unique categories are there?"
   ]
  },
  {
   "cell_type": "code",
   "execution_count": 16,
   "id": "b5756b70-4352-411a-b18d-ff0c42da0d7e",
   "metadata": {},
   "outputs": [
    {
     "name": "stdout",
     "output_type": "stream",
     "text": [
      "Categories: ['Clothing' 'Shoes' 'Books' 'Cosmetics' 'Food & Beverage' 'Toys'\n",
      " 'Technology' 'Souvenir']\n",
      "Number of unique categories: 8\n"
     ]
    }
   ],
   "source": [
    "unique_categories = invoices['category'].unique()\n",
    "num_categories = invoices['category'].nunique()\n",
    "print(f\"Categories: {unique_categories}\")\n",
    "print(f\"Number of unique categories: {num_categories}\")"
   ]
  },
  {
   "cell_type": "code",
   "execution_count": null,
   "id": "1f265d6e-b973-4af6-bde8-ba487e3fbce7",
   "metadata": {},
   "outputs": [],
   "source": [
    "# Easy Question 3: Which payment method is the most popular? How many times was it used?"
   ]
  },
  {
   "cell_type": "code",
   "execution_count": 15,
   "id": "3e176729-962e-453d-97be-53930c486eb8",
   "metadata": {},
   "outputs": [
    {
     "name": "stdout",
     "output_type": "stream",
     "text": [
      "Most popular payment method: Cash, used 44447 times\n"
     ]
    }
   ],
   "source": [
    "most_common_payment = invoices['payment_method'].value_counts().idxmax()\n",
    "usage_count = invoices['payment_method'].value_counts().max()\n",
    "print(f\"Most popular payment method: {most_common_payment}, used {usage_count} times\")"
   ]
  },
  {
   "cell_type": "code",
   "execution_count": null,
   "id": "71090340-7589-48fe-93f6-cb7339c7f674",
   "metadata": {},
   "outputs": [],
   "source": [
    "# Medium Question 1: What are the three most popular categories, by total sales?"
   ]
  },
  {
   "cell_type": "code",
   "execution_count": 14,
   "id": "76fa7bd0-3870-47be-a753-13a43d8785fd",
   "metadata": {},
   "outputs": [
    {
     "name": "stdout",
     "output_type": "stream",
     "text": [
      "category\n",
      "Clothing      31075684.64\n",
      "Shoes         18135336.89\n",
      "Technology    15772050.00\n",
      "Name: price, dtype: float64\n"
     ]
    }
   ],
   "source": [
    "popular_categories = invoices.groupby('category')['price'].sum().sort_values(ascending=False).head(3)\n",
    "print(popular_categories)"
   ]
  },
  {
   "cell_type": "code",
   "execution_count": null,
   "id": "6a6d4eb0-db02-444c-aafd-0bd38f44cdc7",
   "metadata": {},
   "outputs": [],
   "source": [
    "# Medium Question 2: What are the total sales attributed to customers over the age of 45?"
   ]
  },
  {
   "cell_type": "code",
   "execution_count": 21,
   "id": "0678b2bc-b7b8-49a1-bd20-792d4fd0abde",
   "metadata": {},
   "outputs": [
    {
     "name": "stdout",
     "output_type": "stream",
     "text": [
      "Total sales to customers over 45: 22370553.269999996\n"
     ]
    }
   ],
   "source": [
    "merged = pd.merge(invoices, customers, left_on='customer_id', right_on='id')\n",
    "sales_over_45 = merged[merged['age'] > 45]['price'].sum()\n",
    "print(f\"Total sales to customers over 45: {sales_over_45}\")"
   ]
  },
  {
   "cell_type": "code",
   "execution_count": null,
   "id": "433bdcf7-bcf1-4c15-8199-9e959668b974",
   "metadata": {},
   "outputs": [],
   "source": [
    "# Medium Question 3: How is the data distributed across different invoice dates? Are there any seasonal trends or patterns? (Use a graph for this.)"
   ]
  },
  {
   "cell_type": "code",
   "execution_count": 24,
   "id": "e2e27c3c-92b9-4a2c-855a-dcdbdded18d6",
   "metadata": {},
   "outputs": [
    {
     "data": {
      "image/png": "[encoded data removed]",
      "text/plain": [
       "<Figure size 1200x600 with 1 Axes>"
      ]
     },
     "metadata": {},
     "output_type": "display_data"
    }
   ],
   "source": [
    "invoices['invoice_date'] = pd.to_datetime(invoices['invoice_date'], dayfirst=True)\n",
    "\n",
    "daily_sales = invoices.groupby(invoices['invoice_date'].dt.to_period('M'))['price'].sum()\n",
    "\n",
    "daily_sales.plot(kind='line', title=\"Monthly Sales Trend\", figsize=(12,6))\n",
    "plt.xlabel(\"Month\")\n",
    "plt.ylabel(\"Total Sales\")\n",
    "plt.grid(True)\n",
    "plt.show()"
   ]
  },
  {
   "cell_type": "code",
   "execution_count": null,
   "id": "639a354d-b1ab-464b-82f7-cf9c5aaf2d91",
   "metadata": {},
   "outputs": [],
   "source": [
    "# Hard Question: Create a pivot table showing the breakdown of sales across these dimensions, in this order: category, decade age range."
   ]
  },
  {
   "cell_type": "code",
   "execution_count": 33,
   "id": "9ad02556-f48b-4e1d-b6d2-459e4584411a",
   "metadata": {},
   "outputs": [
    {
     "data": {
      "text/html": [
       "<div>\n",
       "<style scoped>\n",
       "    .dataframe tbody tr th:only-of-type {\n",
       "        vertical-align: middle;\n",
       "    }\n",
       "\n",
       "    .dataframe tbody tr th {\n",
       "        vertical-align: top;\n",
       "    }\n",
       "\n",
       "    .dataframe thead th {\n",
       "        text-align: right;\n",
       "    }\n",
       "</style>\n",
       "<table border=\"1\" class=\"dataframe\">\n",
       "  <thead>\n",
       "    <tr style=\"text-align: right;\">\n",
       "      <th>age_group</th>\n",
       "      <th>10-19</th>\n",
       "      <th>20-29</th>\n",
       "      <th>30-39</th>\n",
       "      <th>40-49</th>\n",
       "      <th>50-59</th>\n",
       "      <th>60-69</th>\n",
       "      <th>70-79</th>\n",
       "      <th>80-89</th>\n",
       "      <th>Unknown</th>\n",
       "    </tr>\n",
       "    <tr>\n",
       "      <th>category</th>\n",
       "      <th></th>\n",
       "      <th></th>\n",
       "      <th></th>\n",
       "      <th></th>\n",
       "      <th></th>\n",
       "      <th></th>\n",
       "      <th></th>\n",
       "      <th></th>\n",
       "      <th></th>\n",
       "    </tr>\n",
       "  </thead>\n",
       "  <tbody>\n",
       "    <tr>\n",
       "      <th>Books</th>\n",
       "      <td>3469.35</td>\n",
       "      <td>21619.05</td>\n",
       "      <td>22997.70</td>\n",
       "      <td>23361.30</td>\n",
       "      <td>20664.60</td>\n",
       "      <td>21513.00</td>\n",
       "      <td>15437.85</td>\n",
       "      <td>7575.00</td>\n",
       "      <td>90339.45</td>\n",
       "    </tr>\n",
       "    <tr>\n",
       "      <th>Clothing</th>\n",
       "      <td>518238.16</td>\n",
       "      <td>2818351.36</td>\n",
       "      <td>3074919.76</td>\n",
       "      <td>3066817.60</td>\n",
       "      <td>2803647.44</td>\n",
       "      <td>2910776.00</td>\n",
       "      <td>2117064.40</td>\n",
       "      <td>1228827.60</td>\n",
       "      <td>12537042.32</td>\n",
       "    </tr>\n",
       "    <tr>\n",
       "      <th>Cosmetics</th>\n",
       "      <td>29681.80</td>\n",
       "      <td>165079.60</td>\n",
       "      <td>198054.86</td>\n",
       "      <td>181343.60</td>\n",
       "      <td>160932.28</td>\n",
       "      <td>176627.04</td>\n",
       "      <td>114132.62</td>\n",
       "      <td>71236.32</td>\n",
       "      <td>751518.78</td>\n",
       "    </tr>\n",
       "    <tr>\n",
       "      <th>Food &amp; Beverage</th>\n",
       "      <td>3645.31</td>\n",
       "      <td>20428.38</td>\n",
       "      <td>23744.20</td>\n",
       "      <td>24460.71</td>\n",
       "      <td>19999.52</td>\n",
       "      <td>22190.89</td>\n",
       "      <td>14968.26</td>\n",
       "      <td>8561.51</td>\n",
       "      <td>93569.93</td>\n",
       "    </tr>\n",
       "    <tr>\n",
       "      <th>Shoes</th>\n",
       "      <td>274277.69</td>\n",
       "      <td>1630061.72</td>\n",
       "      <td>1912141.62</td>\n",
       "      <td>1889335.16</td>\n",
       "      <td>1591650.84</td>\n",
       "      <td>1618058.32</td>\n",
       "      <td>1210542.89</td>\n",
       "      <td>708200.60</td>\n",
       "      <td>7301068.05</td>\n",
       "    </tr>\n",
       "    <tr>\n",
       "      <th>Souvenir</th>\n",
       "      <td>3296.13</td>\n",
       "      <td>15295.92</td>\n",
       "      <td>17548.08</td>\n",
       "      <td>17759.22</td>\n",
       "      <td>15084.78</td>\n",
       "      <td>15331.11</td>\n",
       "      <td>10592.19</td>\n",
       "      <td>6545.34</td>\n",
       "      <td>72984.06</td>\n",
       "    </tr>\n",
       "    <tr>\n",
       "      <th>Technology</th>\n",
       "      <td>287700.00</td>\n",
       "      <td>1426950.00</td>\n",
       "      <td>1669500.00</td>\n",
       "      <td>1630650.00</td>\n",
       "      <td>1220100.00</td>\n",
       "      <td>1529850.00</td>\n",
       "      <td>977550.00</td>\n",
       "      <td>548100.00</td>\n",
       "      <td>6481650.00</td>\n",
       "    </tr>\n",
       "    <tr>\n",
       "      <th>Toys</th>\n",
       "      <td>17203.20</td>\n",
       "      <td>102466.56</td>\n",
       "      <td>115297.28</td>\n",
       "      <td>106910.72</td>\n",
       "      <td>94115.84</td>\n",
       "      <td>100244.48</td>\n",
       "      <td>74475.52</td>\n",
       "      <td>43043.84</td>\n",
       "      <td>432947.20</td>\n",
       "    </tr>\n",
       "  </tbody>\n",
       "</table>\n",
       "</div>"
      ],
      "text/plain": [
       "age_group            10-19       20-29       30-39       40-49       50-59  \\\n",
       "category                                                                     \n",
       "Books              3469.35    21619.05    22997.70    23361.30    20664.60   \n",
       "Clothing         518238.16  2818351.36  3074919.76  3066817.60  2803647.44   \n",
       "Cosmetics         29681.80   165079.60   198054.86   181343.60   160932.28   \n",
       "Food & Beverage    3645.31    20428.38    23744.20    24460.71    19999.52   \n",
       "Shoes            274277.69  1630061.72  1912141.62  1889335.16  1591650.84   \n",
       "Souvenir           3296.13    15295.92    17548.08    17759.22    15084.78   \n",
       "Technology       287700.00  1426950.00  1669500.00  1630650.00  1220100.00   \n",
       "Toys              17203.20   102466.56   115297.28   106910.72    94115.84   \n",
       "\n",
       "age_group             60-69       70-79       80-89      Unknown  \n",
       "category                                                          \n",
       "Books              21513.00    15437.85     7575.00     90339.45  \n",
       "Clothing         2910776.00  2117064.40  1228827.60  12537042.32  \n",
       "Cosmetics         176627.04   114132.62    71236.32    751518.78  \n",
       "Food & Beverage    22190.89    14968.26     8561.51     93569.93  \n",
       "Shoes            1618058.32  1210542.89   708200.60   7301068.05  \n",
       "Souvenir           15331.11    10592.19     6545.34     72984.06  \n",
       "Technology       1529850.00   977550.00   548100.00   6481650.00  \n",
       "Toys              100244.48    74475.52    43043.84    432947.20  "
      ]
     },
     "execution_count": 33,
     "metadata": {},
     "output_type": "execute_result"
    }
   ],
   "source": [
    "def age_to_range(age):\n",
    "    if pd.isna(age):\n",
    "        return 'Unknown'\n",
    "    if age < 10:\n",
    "        return '<10'\n",
    "    lower = (age // 10) * 10\n",
    "    upper = lower + 9\n",
    "    return f\"{int(lower)}-{int(upper)}\"\n",
    "\n",
    "merged['age_group'] = merged['age'].apply(age_to_range)\n",
    "\n",
    "pivot = pd.pivot_table(\n",
    "    merged,\n",
    "    index='category',\n",
    "    columns='age_group',\n",
    "    values='price',\n",
    "    aggfunc='sum',\n",
    "    fill_value=0\n",
    ")\n",
    "pivot"
   ]
  }
 ],
 "metadata": {
  "kernelspec": {
   "display_name": "Python [conda env:base] *",
   "language": "python",
   "name": "conda-base-py"
  },
  "language_info": {
   "codemirror_mode": {
    "name": "ipython",
    "version": 3
   },
   "file_extension": ".py",
   "mimetype": "text/x-python",
   "name": "python",
   "nbconvert_exporter": "python",
   "pygments_lexer": "ipython3",
   "version": "3.12.7"
  }
 },
 "nbformat": 4,
 "nbformat_minor": 5
}
